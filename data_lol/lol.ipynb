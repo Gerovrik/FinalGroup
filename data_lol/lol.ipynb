{
 "cells": [
  {
   "cell_type": "code",
   "execution_count": null,
   "metadata": {
    "tags": []
   },
   "outputs": [],
   "source": [
    "import json\n",
    "\n",
    "import requests\n",
    "\n",
    "import pandas as pd\n",
    "key=\"RGAPI-bb30cff2-40c0-442b-b51d-b02acab9d6ef\"\n",
    "api_key = f'?api_key={key}'\n",
    "\n",
    "\n",
    "# url = \"https://na1.api.riotgames.com/lol/match/v4/matches/3845049175?api_key=RGAPI-998df494-249a-4805-b186-abd577498a8c\"\n",
    "\n",
    "Match_ID_base_url = \"https://canisback.com/matchId/matchlist_na1.json\"\n",
    "Match_ID_url = Match_ID_base_url\n",
    "Match_ID_response = requests.get(Match_ID_url)\n",
    "Match_ID_Stat_results = Match_ID_response.json()\n"
   ]
  },
  {
   "cell_type": "code",
   "execution_count": 19,
   "metadata": {},
   "outputs": [
    {
     "output_type": "execute_result",
     "data": {
      "text/plain": [
       "      Match_ID\n",
       "0   3845049175\n",
       "1   3845049216\n",
       "2   3845049226\n",
       "3   3845049296\n",
       "4   3845049298\n",
       "5   3845049300\n",
       "6   3845049321\n",
       "7   3845049358\n",
       "8   3845049361\n",
       "9   3845049379\n",
       "10  3845049386\n",
       "11  3845049390\n",
       "12  3845049407\n",
       "13  3845049417\n",
       "14  3845049427\n",
       "15  3845049441\n",
       "16  3845049452\n",
       "17  3845049465\n",
       "18  3845049469\n",
       "19  3845049482"
      ],
      "text/html": "<div>\n<style scoped>\n    .dataframe tbody tr th:only-of-type {\n        vertical-align: middle;\n    }\n\n    .dataframe tbody tr th {\n        vertical-align: top;\n    }\n\n    .dataframe thead th {\n        text-align: right;\n    }\n</style>\n<table border=\"1\" class=\"dataframe\">\n  <thead>\n    <tr style=\"text-align: right;\">\n      <th></th>\n      <th>Match_ID</th>\n    </tr>\n  </thead>\n  <tbody>\n    <tr>\n      <th>0</th>\n      <td>3845049175</td>\n    </tr>\n    <tr>\n      <th>1</th>\n      <td>3845049216</td>\n    </tr>\n    <tr>\n      <th>2</th>\n      <td>3845049226</td>\n    </tr>\n    <tr>\n      <th>3</th>\n      <td>3845049296</td>\n    </tr>\n    <tr>\n      <th>4</th>\n      <td>3845049298</td>\n    </tr>\n    <tr>\n      <th>5</th>\n      <td>3845049300</td>\n    </tr>\n    <tr>\n      <th>6</th>\n      <td>3845049321</td>\n    </tr>\n    <tr>\n      <th>7</th>\n      <td>3845049358</td>\n    </tr>\n    <tr>\n      <th>8</th>\n      <td>3845049361</td>\n    </tr>\n    <tr>\n      <th>9</th>\n      <td>3845049379</td>\n    </tr>\n    <tr>\n      <th>10</th>\n      <td>3845049386</td>\n    </tr>\n    <tr>\n      <th>11</th>\n      <td>3845049390</td>\n    </tr>\n    <tr>\n      <th>12</th>\n      <td>3845049407</td>\n    </tr>\n    <tr>\n      <th>13</th>\n      <td>3845049417</td>\n    </tr>\n    <tr>\n      <th>14</th>\n      <td>3845049427</td>\n    </tr>\n    <tr>\n      <th>15</th>\n      <td>3845049441</td>\n    </tr>\n    <tr>\n      <th>16</th>\n      <td>3845049452</td>\n    </tr>\n    <tr>\n      <th>17</th>\n      <td>3845049465</td>\n    </tr>\n    <tr>\n      <th>18</th>\n      <td>3845049469</td>\n    </tr>\n    <tr>\n      <th>19</th>\n      <td>3845049482</td>\n    </tr>\n  </tbody>\n</table>\n</div>"
     },
     "metadata": {},
     "execution_count": 19
    }
   ],
   "source": [
    "Match_ID_Stat_results_df = pd.DataFrame(Match_ID_Stat_results)\n",
    "df_test =Match_ID_Stat_results_df.head(20)\n",
    "df_test = df_test.astype(str)\n",
    "df_test.columns = ['Match_ID']\n",
    "df_test"
   ]
  },
  {
   "cell_type": "code",
   "execution_count": null,
   "metadata": {},
   "outputs": [],
   "source": []
  },
  {
   "cell_type": "code",
   "execution_count": 34,
   "metadata": {},
   "outputs": [
    {
     "output_type": "stream",
     "name": "stdout",
     "text": [
      "json created\n"
     ]
    },
    {
     "output_type": "error",
     "ename": "KeyError",
     "evalue": "'participants'",
     "traceback": [
      "\u001b[1;31m---------------------------------------------------------------------------\u001b[0m",
      "\u001b[1;31mKeyError\u001b[0m                                  Traceback (most recent call last)",
      "\u001b[1;32m<ipython-input-34-7642e084f526>\u001b[0m in \u001b[0;36m<module>\u001b[1;34m\u001b[0m\n\u001b[0;32m     11\u001b[0m \u001b[1;33m\u001b[0m\u001b[0m\n\u001b[0;32m     12\u001b[0m \u001b[1;33m\u001b[0m\u001b[0m\n\u001b[1;32m---> 13\u001b[1;33m     \u001b[1;32mfor\u001b[0m \u001b[0mteam\u001b[0m \u001b[1;32min\u001b[0m \u001b[0mresults\u001b[0m\u001b[1;33m[\u001b[0m\u001b[1;34m'participants'\u001b[0m\u001b[1;33m]\u001b[0m\u001b[1;33m:\u001b[0m\u001b[1;33m\u001b[0m\u001b[1;33m\u001b[0m\u001b[0m\n\u001b[0m\u001b[0;32m     14\u001b[0m         \u001b[0mx\u001b[0m\u001b[1;33m=\u001b[0m\u001b[0mteam\u001b[0m\u001b[1;33m[\u001b[0m\u001b[1;34m'championId'\u001b[0m\u001b[1;33m]\u001b[0m\u001b[1;33m\u001b[0m\u001b[1;33m\u001b[0m\u001b[0m\n\u001b[0;32m     15\u001b[0m         \u001b[0my\u001b[0m\u001b[1;33m=\u001b[0m\u001b[0mteam\u001b[0m\u001b[1;33m[\u001b[0m\u001b[1;34m'teamId'\u001b[0m\u001b[1;33m]\u001b[0m\u001b[1;33m\u001b[0m\u001b[1;33m\u001b[0m\u001b[0m\n",
      "\u001b[1;31mKeyError\u001b[0m: 'participants'"
     ]
    }
   ],
   "source": [
    "x = 0\n",
    "team_id=[]\n",
    "while True:\n",
    "    base_url = \"https://na1.api.riotgames.com/lol/match/v4/matches/\"\n",
    "    matchid = df_test['Match_ID'][0]\n",
    "    url = base_url + matchid + api_key\n",
    "    response = requests.get(url)\n",
    "    results = response.json()\n",
    "    print(\"json created\")\n",
    "    # print(results)\n",
    "\n",
    "   \n",
    "    for team in results['participants']:\n",
    "        x=team['championId']\n",
    "        y=team['teamId']\n",
    "        z=team['participantId']\n",
    "        a=team['stats']['kills']\n",
    "        b=team['stats']['deaths']\n",
    "        c=team['stats']['win']\n",
    "\n",
    "        \n",
    "        team_id.append({\n",
    "            \"participantId\":z,\n",
    "            \"championId\":x,\n",
    "            \"teamId\":y,\n",
    "            \"kills\":a,\n",
    "            \"deaths\":b,\n",
    "            \"win\":c\n",
    "\n",
    "\n",
    "        })\n",
    "    df=pd.DataFrame(team_id)\n",
    "    df.head()\n",
    "    x += 1\n",
    "    if x == 20:\n",
    "      break\n"
   ]
  },
  {
   "cell_type": "code",
   "execution_count": 33,
   "metadata": {},
   "outputs": [
    {
     "output_type": "execute_result",
     "data": {
      "text/plain": [
       "   participantId  championId  teamId  kills  deaths   win\n",
       "0              1          39     100      7       4  True\n",
       "1              2         145     100      7       1  True\n",
       "2              3         121     100      1       0  True\n",
       "3              4          99     100      0       0  True\n",
       "4              5         111     100      1       2  True"
      ],
      "text/html": "<div>\n<style scoped>\n    .dataframe tbody tr th:only-of-type {\n        vertical-align: middle;\n    }\n\n    .dataframe tbody tr th {\n        vertical-align: top;\n    }\n\n    .dataframe thead th {\n        text-align: right;\n    }\n</style>\n<table border=\"1\" class=\"dataframe\">\n  <thead>\n    <tr style=\"text-align: right;\">\n      <th></th>\n      <th>participantId</th>\n      <th>championId</th>\n      <th>teamId</th>\n      <th>kills</th>\n      <th>deaths</th>\n      <th>win</th>\n    </tr>\n  </thead>\n  <tbody>\n    <tr>\n      <th>0</th>\n      <td>1</td>\n      <td>39</td>\n      <td>100</td>\n      <td>7</td>\n      <td>4</td>\n      <td>True</td>\n    </tr>\n    <tr>\n      <th>1</th>\n      <td>2</td>\n      <td>145</td>\n      <td>100</td>\n      <td>7</td>\n      <td>1</td>\n      <td>True</td>\n    </tr>\n    <tr>\n      <th>2</th>\n      <td>3</td>\n      <td>121</td>\n      <td>100</td>\n      <td>1</td>\n      <td>0</td>\n      <td>True</td>\n    </tr>\n    <tr>\n      <th>3</th>\n      <td>4</td>\n      <td>99</td>\n      <td>100</td>\n      <td>0</td>\n      <td>0</td>\n      <td>True</td>\n    </tr>\n    <tr>\n      <th>4</th>\n      <td>5</td>\n      <td>111</td>\n      <td>100</td>\n      <td>1</td>\n      <td>2</td>\n      <td>True</td>\n    </tr>\n  </tbody>\n</table>\n</div>"
     },
     "metadata": {},
     "execution_count": 33
    }
   ],
   "source": [
    "    df.head()\n",
    "    # print(team_id)\n",
    "    # print(team)"
   ]
  },
  {
   "cell_type": "code",
   "execution_count": null,
   "metadata": {},
   "outputs": [],
   "source": [
    "#for entries in Stat_results:\n",
    "    #print(entries)\n",
    "# json.dumps(Stat_results,indent=4)\n",
    "#data_df.to_csv(r'/Users/jonathanrocha/Desktop/ClassWork/FinalGroup/data_lol/data.csv',index = False, header= True)"
   ]
  }
 ],
 "metadata": {
  "kernelspec": {
   "name": "python383jvsc74a57bd02a31aecb893d678b5c2886b00c76e4d23c2c1044206d06462c03d0c8b7ace1de",
   "display_name": "Python 3.8.3 64-bit (conda)"
  },
  "language_info": {
   "codemirror_mode": {
    "name": "ipython",
    "version": 3
   },
   "file_extension": ".py",
   "mimetype": "text/x-python",
   "name": "python",
   "nbconvert_exporter": "python",
   "pygments_lexer": "ipython3",
   "version": "3.8.3-final"
  }
 },
 "nbformat": 4,
 "nbformat_minor": 4
}