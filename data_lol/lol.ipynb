{
 "cells": [
  {
   "cell_type": "code",
   "execution_count": 14,
   "metadata": {
    "tags": []
   },
   "outputs": [],
   "source": [
    "import json\n",
    "import time\n",
    "import requests\n",
    "\n",
    "import pandas as pd\n",
    "key=\"RGAPI-9dd2313f-ae6b-4896-b80d-9fdca9bf42aa\"\n",
    "api_key = f'?api_key={key}'\n",
    "\n",
    "\n",
    "# url = \"https://na1.api.riotgames.com/lol/match/v4/matches/3845049175?api_key=RGAPI-998df494-249a-4805-b186-abd577498a8c\"\n",
    "\n",
    "Match_ID_base_url = \"https://canisback.com/matchId/matchlist_na1.json\"\n",
    "Match_ID_url = Match_ID_base_url\n",
    "Match_ID_response = requests.get(Match_ID_url)\n",
    "Match_ID_Stat_results = Match_ID_response.json()\n"
   ]
  },
  {
   "cell_type": "code",
   "execution_count": 18,
   "metadata": {},
   "outputs": [
    {
     "output_type": "execute_result",
     "data": {
      "text/plain": [
       "      Match_ID\n",
       "0   3846368586\n",
       "1   3846368588\n",
       "2   3846368613\n",
       "3   3846368635\n",
       "4   3846368666\n",
       "..         ...\n",
       "95  3846369473\n",
       "96  3846369476\n",
       "97  3846369477\n",
       "98  3846369488\n",
       "99  3846369514\n",
       "\n",
       "[100 rows x 1 columns]"
      ],
      "text/html": "<div>\n<style scoped>\n    .dataframe tbody tr th:only-of-type {\n        vertical-align: middle;\n    }\n\n    .dataframe tbody tr th {\n        vertical-align: top;\n    }\n\n    .dataframe thead th {\n        text-align: right;\n    }\n</style>\n<table border=\"1\" class=\"dataframe\">\n  <thead>\n    <tr style=\"text-align: right;\">\n      <th></th>\n      <th>Match_ID</th>\n    </tr>\n  </thead>\n  <tbody>\n    <tr>\n      <th>0</th>\n      <td>3846368586</td>\n    </tr>\n    <tr>\n      <th>1</th>\n      <td>3846368588</td>\n    </tr>\n    <tr>\n      <th>2</th>\n      <td>3846368613</td>\n    </tr>\n    <tr>\n      <th>3</th>\n      <td>3846368635</td>\n    </tr>\n    <tr>\n      <th>4</th>\n      <td>3846368666</td>\n    </tr>\n    <tr>\n      <th>...</th>\n      <td>...</td>\n    </tr>\n    <tr>\n      <th>95</th>\n      <td>3846369473</td>\n    </tr>\n    <tr>\n      <th>96</th>\n      <td>3846369476</td>\n    </tr>\n    <tr>\n      <th>97</th>\n      <td>3846369477</td>\n    </tr>\n    <tr>\n      <th>98</th>\n      <td>3846369488</td>\n    </tr>\n    <tr>\n      <th>99</th>\n      <td>3846369514</td>\n    </tr>\n  </tbody>\n</table>\n<p>100 rows × 1 columns</p>\n</div>"
     },
     "metadata": {},
     "execution_count": 18
    }
   ],
   "source": [
    "Match_ID_Stat_results_df = pd.DataFrame(Match_ID_Stat_results)\n",
    "df_test =Match_ID_Stat_results_df.head(100)\n",
    "df_test = df_test.astype(str)\n",
    "df_test.columns = ['Match_ID']\n",
    "df_test"
   ]
  },
  {
   "cell_type": "code",
   "execution_count": null,
   "metadata": {},
   "outputs": [],
   "source": []
  },
  {
   "cell_type": "code",
   "execution_count": 21,
   "metadata": {},
   "outputs": [
    {
     "output_type": "stream",
     "name": "stdout",
     "text": [
      "60\n"
     ]
    }
   ],
   "source": [
    "count = 0\n",
    "team_id=[]\n",
    "for count in range(0, 60):\n",
    "    base_url = \"https://na1.api.riotgames.com/lol/match/v4/matches/\"\n",
    "    matchid = df_test['Match_ID'][count]\n",
    "    url = base_url + matchid + api_key\n",
    "    response = requests.get(url)\n",
    "    results = response.json()\n",
    "    # print(results)\n",
    "    time.sleep(1)\n",
    "\n",
    "   \n",
    "    for team in results['participants']:\n",
    "        x=team['championId']\n",
    "        y=team['teamId']\n",
    "        z=team['participantId']\n",
    "        a=team['stats']['kills']\n",
    "        b=team['stats']['deaths']\n",
    "        c=team['stats']['win']\n",
    "\n",
    "        \n",
    "        team_id.append({\n",
    "            \"participantId\":z,\n",
    "            \"championId\":x,\n",
    "            \"teamId\":y,\n",
    "            \"kills\":a,\n",
    "            \"deaths\":b,\n",
    "            \"win\":c\n",
    "\n",
    "        \n",
    "        })\n",
    "    count += 1\n",
    "    df=pd.DataFrame(team_id)\n",
    "\n",
    "    if count == 60:\n",
    "      break\n",
    "print(count)"
   ]
  },
  {
   "cell_type": "code",
   "execution_count": null,
   "metadata": {},
   "outputs": [],
   "source": [
    "df.astype(str)\n",
    "df.to_csv(r'C:\\Users\\Logan\\Desktop\\bootcamp\\FinalGroup\\data_lol\\Dataframe.csv',index = False, header= True)\n",
    "    # print(team_id)\n",
    "    # print(team)"
   ]
  },
  {
   "cell_type": "code",
   "execution_count": 22,
   "metadata": {},
   "outputs": [
    {
     "output_type": "execute_result",
     "data": {
      "text/plain": [
       "     participantId  championId  teamId  kills  deaths    win\n",
       "0                1         120     100      3       7  False\n",
       "1                2         412     100      1       8  False\n",
       "2                3         777     100      9      11  False\n",
       "3                4          31     100     11       9  False\n",
       "4                5          67     100     14      10  False\n",
       "..             ...         ...     ...    ...     ...    ...\n",
       "595              6          38     200      1       2   True\n",
       "596              7         234     200      6       3   True\n",
       "597              8          40     200      0       3   True\n",
       "598              9         119     200      0       2   True\n",
       "599             10         141     200     12       1   True\n",
       "\n",
       "[600 rows x 6 columns]"
      ],
      "text/html": "<div>\n<style scoped>\n    .dataframe tbody tr th:only-of-type {\n        vertical-align: middle;\n    }\n\n    .dataframe tbody tr th {\n        vertical-align: top;\n    }\n\n    .dataframe thead th {\n        text-align: right;\n    }\n</style>\n<table border=\"1\" class=\"dataframe\">\n  <thead>\n    <tr style=\"text-align: right;\">\n      <th></th>\n      <th>participantId</th>\n      <th>championId</th>\n      <th>teamId</th>\n      <th>kills</th>\n      <th>deaths</th>\n      <th>win</th>\n    </tr>\n  </thead>\n  <tbody>\n    <tr>\n      <th>0</th>\n      <td>1</td>\n      <td>120</td>\n      <td>100</td>\n      <td>3</td>\n      <td>7</td>\n      <td>False</td>\n    </tr>\n    <tr>\n      <th>1</th>\n      <td>2</td>\n      <td>412</td>\n      <td>100</td>\n      <td>1</td>\n      <td>8</td>\n      <td>False</td>\n    </tr>\n    <tr>\n      <th>2</th>\n      <td>3</td>\n      <td>777</td>\n      <td>100</td>\n      <td>9</td>\n      <td>11</td>\n      <td>False</td>\n    </tr>\n    <tr>\n      <th>3</th>\n      <td>4</td>\n      <td>31</td>\n      <td>100</td>\n      <td>11</td>\n      <td>9</td>\n      <td>False</td>\n    </tr>\n    <tr>\n      <th>4</th>\n      <td>5</td>\n      <td>67</td>\n      <td>100</td>\n      <td>14</td>\n      <td>10</td>\n      <td>False</td>\n    </tr>\n    <tr>\n      <th>...</th>\n      <td>...</td>\n      <td>...</td>\n      <td>...</td>\n      <td>...</td>\n      <td>...</td>\n      <td>...</td>\n    </tr>\n    <tr>\n      <th>595</th>\n      <td>6</td>\n      <td>38</td>\n      <td>200</td>\n      <td>1</td>\n      <td>2</td>\n      <td>True</td>\n    </tr>\n    <tr>\n      <th>596</th>\n      <td>7</td>\n      <td>234</td>\n      <td>200</td>\n      <td>6</td>\n      <td>3</td>\n      <td>True</td>\n    </tr>\n    <tr>\n      <th>597</th>\n      <td>8</td>\n      <td>40</td>\n      <td>200</td>\n      <td>0</td>\n      <td>3</td>\n      <td>True</td>\n    </tr>\n    <tr>\n      <th>598</th>\n      <td>9</td>\n      <td>119</td>\n      <td>200</td>\n      <td>0</td>\n      <td>2</td>\n      <td>True</td>\n    </tr>\n    <tr>\n      <th>599</th>\n      <td>10</td>\n      <td>141</td>\n      <td>200</td>\n      <td>12</td>\n      <td>1</td>\n      <td>True</td>\n    </tr>\n  </tbody>\n</table>\n<p>600 rows × 6 columns</p>\n</div>"
     },
     "metadata": {},
     "execution_count": 22
    }
   ],
   "source": [
    "df"
   ]
  },
  {
   "cell_type": "code",
   "execution_count": null,
   "metadata": {},
   "outputs": [],
   "source": [
    "#for entries in Stat_results:\n",
    "    #print(entries)\n",
    "# json.dumps(Stat_results,indent=4)\n",
    "#data_df.to_csv(r'/Users/jonathanrocha/Desktop/ClassWork/FinalGroup/data_lol/data.csv',index = False, header= True)"
   ]
  }
 ],
 "metadata": {
  "kernelspec": {
   "name": "python383jvsc74a57bd02a31aecb893d678b5c2886b00c76e4d23c2c1044206d06462c03d0c8b7ace1de",
   "display_name": "Python 3.8.3 64-bit (conda)"
  },
  "language_info": {
   "codemirror_mode": {
    "name": "ipython",
    "version": 3
   },
   "file_extension": ".py",
   "mimetype": "text/x-python",
   "name": "python",
   "nbconvert_exporter": "python",
   "pygments_lexer": "ipython3",
   "version": "3.8.3-final"
  }
 },
 "nbformat": 4,
 "nbformat_minor": 4
}