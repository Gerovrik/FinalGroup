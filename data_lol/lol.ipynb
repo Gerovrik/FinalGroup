{
 "cells": [
  {
   "cell_type": "code",
   "execution_count": null,
   "metadata": {
    "tags": []
   },
   "outputs": [],
   "source": [
    "import json\n",
    "\n",
    "import requests\n",
    "\n",
    "import pandas as pd\n",
    "key=\"RGAPI-bb30cff2-40c0-442b-b51d-b02acab9d6ef\"\n",
    "api_key = f'?api_key={key}'\n",
    "\n",
    "\n",
    "# url = \"https://na1.api.riotgames.com/lol/match/v4/matches/3845049175?api_key=RGAPI-998df494-249a-4805-b186-abd577498a8c\"\n",
    "\n",
    "Match_ID_base_url = \"https://canisback.com/matchId/matchlist_na1.json\"\n",
    "Match_ID_url = Match_ID_base_url\n",
    "Match_ID_response = requests.get(Match_ID_url)\n",
    "Match_ID_Stat_results = Match_ID_response.json()\n"
   ]
  },
  {
   "cell_type": "code",
   "execution_count": null,
   "metadata": {},
   "outputs": [],
   "source": [
    "Match_ID_Stat_results_df = pd.DataFrame(Match_ID_Stat_results)\n",
    "df_test =Match_ID_Stat_results_df.head(20)\n",
    "df_test = df_test.astype(str)\n",
    "df_test.columns = ['Match_ID']\n",
    "df_test"
   ]
  },
  {
   "cell_type": "code",
   "execution_count": null,
   "metadata": {},
   "outputs": [],
   "source": []
  },
  {
   "cell_type": "code",
   "execution_count": null,
   "metadata": {},
   "outputs": [],
   "source": [
    "count = 0\n",
    "team_id=[]\n",
    "for count in range(1, 20):\n",
    "    base_url = \"https://na1.api.riotgames.com/lol/match/v4/matches/\"\n",
    "    matchid = df_test['Match_ID'][count]\n",
    "    url = base_url + matchid + api_key\n",
    "    response = requests.get(url)\n",
    "    results = response.json()\n",
    "    # print(results)\n",
    "\n",
    "   \n",
    "    for team in results['participants']:\n",
    "        x=team['championId']\n",
    "        y=team['teamId']\n",
    "        z=team['participantId']\n",
    "        a=team['stats']['kills']\n",
    "        b=team['stats']['deaths']\n",
    "        c=team['stats']['win']\n",
    "\n",
    "        \n",
    "        team_id.append({\n",
    "            \"participantId\":z,\n",
    "            \"championId\":x,\n",
    "            \"teamId\":y,\n",
    "            \"kills\":a,\n",
    "            \"deaths\":b,\n",
    "            \"win\":c\n",
    "\n",
    "        \n",
    "        })\n",
    "    count += 1\n",
    "    df=pd.DataFrame(team_id)\n",
    "\n",
    "    if count == 20:\n",
    "      break\n",
    "print(count)"
   ]
  },
  {
   "cell_type": "code",
   "execution_count": null,
   "metadata": {},
   "outputs": [],
   "source": [
    "df.astype(str)\n",
    "df.to_csv(r'C:\\Users\\Logan\\Desktop\\bootcamp\\FinalGroup\\data_lol\\Dataframe.csv',index = False, header= True)\n",
    "    # print(team_id)\n",
    "    # print(team)"
   ]
  },
  {
   "cell_type": "code",
   "execution_count": null,
   "metadata": {},
   "outputs": [],
   "source": [
    "#for entries in Stat_results:\n",
    "    #print(entries)\n",
    "# json.dumps(Stat_results,indent=4)\n",
    "#data_df.to_csv(r'/Users/jonathanrocha/Desktop/ClassWork/FinalGroup/data_lol/data.csv',index = False, header= True)"
   ]
  }
 ],
 "metadata": {
  "kernelspec": {
   "name": "python383jvsc74a57bd02a31aecb893d678b5c2886b00c76e4d23c2c1044206d06462c03d0c8b7ace1de",
   "display_name": "Python 3.8.3 64-bit (conda)"
  },
  "language_info": {
   "codemirror_mode": {
    "name": "ipython",
    "version": 3
   },
   "file_extension": ".py",
   "mimetype": "text/x-python",
   "name": "python",
   "nbconvert_exporter": "python",
   "pygments_lexer": "ipython3",
   "version": "3.8.3-final"
  }
 },
 "nbformat": 4,
 "nbformat_minor": 4
}