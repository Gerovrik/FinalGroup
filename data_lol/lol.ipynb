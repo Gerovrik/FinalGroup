{
 "cells": [
  {
   "cell_type": "code",
   "execution_count": 58,
   "metadata": {
    "tags": []
   },
   "outputs": [],
   "source": [
    "import json\n",
    "\n",
    "import requests\n",
    "\n",
    "import pandas as pd\n",
    "key=\"RGAPI-92ef961d-807a-4bdd-af51-bd86edb5af5f\"\n",
    "api_key = f'?api_key={key}'\n",
    "\n",
    "\n",
    "# url = \"https://na1.api.riotgames.com/lol/match/v4/matches/3845049175?api_key=RGAPI-998df494-249a-4805-b186-abd577498a8c\"\n",
    "\n",
    "\n",
    "base_url = \"https://na1.api.riotgames.com/lol/match/v4/matches/\"\n",
    "matchid = \"3845049175\"\n",
    "url = base_url + matchid + api_key\n",
    "response = requests.get(url)\n",
    "results = response.json()\n",
    "# print(results)\n"
   ]
  },
  {
   "cell_type": "code",
   "execution_count": 59,
   "metadata": {},
   "outputs": [
    {
     "output_type": "execute_result",
     "data": {
      "text/plain": [
       "3845049175"
      ]
     },
     "metadata": {},
     "execution_count": 59
    }
   ],
   "source": [
    "id_champion=results[\"gameId\"]\n",
    "id_champion"
   ]
  },
  {
   "cell_type": "code",
   "execution_count": 40,
   "metadata": {},
   "outputs": [],
   "source": [
    "# json.dumps(results,indent=4)"
   ]
  },
  {
   "cell_type": "code",
   "execution_count": 60,
   "metadata": {},
   "outputs": [
    {
     "output_type": "stream",
     "name": "stdout",
     "text": [
      "gameId\nplatformId\ngameCreation\ngameDuration\nqueueId\nmapId\nseasonId\ngameVersion\ngameMode\ngameType\nteams\nparticipants\nparticipantIdentities\n"
     ]
    }
   ],
   "source": [
    "for entries in results:\n",
    "    print(entries)"
   ]
  },
  {
   "cell_type": "code",
   "execution_count": 99,
   "metadata": {},
   "outputs": [],
   "source": [
    "team_id=[]\n",
    "for team in results['participants']:\n",
    "    x=team['championId']\n",
    "    y=team['teamId']\n",
    "    z=team['participantId']\n",
    "    a=team['stats']['kills']\n",
    "    b=team['stats']['deaths']\n",
    "    c=team['stats']['win']\n",
    "\n",
    "    \n",
    "    team_id.append({\n",
    "        \"participantId\":z,\n",
    "        \"championId\":x,\n",
    "        \"teamId\":y,\n",
    "        \"kills\":a,\n",
    "        \"deaths\":b,\n",
    "        \"win\":c\n",
    "\n",
    "\n",
    "    })\n",
    "    # print(team_id)\n",
    "    # print(team)"
   ]
  },
  {
   "cell_type": "code",
   "execution_count": 100,
   "metadata": {},
   "outputs": [],
   "source": [
    "df=pd.DataFrame(team_id)"
   ]
  },
  {
   "cell_type": "code",
   "execution_count": 101,
   "metadata": {},
   "outputs": [
    {
     "output_type": "execute_result",
     "data": {
      "text/plain": [
       "   participantId  championId  teamId  kills  deaths   win\n",
       "0              1          39     100      7       4  True\n",
       "1              2         145     100      7       1  True\n",
       "2              3         121     100      1       0  True\n",
       "3              4          99     100      0       0  True\n",
       "4              5         111     100      1       2  True"
      ],
      "text/html": "<div>\n<style scoped>\n    .dataframe tbody tr th:only-of-type {\n        vertical-align: middle;\n    }\n\n    .dataframe tbody tr th {\n        vertical-align: top;\n    }\n\n    .dataframe thead th {\n        text-align: right;\n    }\n</style>\n<table border=\"1\" class=\"dataframe\">\n  <thead>\n    <tr style=\"text-align: right;\">\n      <th></th>\n      <th>participantId</th>\n      <th>championId</th>\n      <th>teamId</th>\n      <th>kills</th>\n      <th>deaths</th>\n      <th>win</th>\n    </tr>\n  </thead>\n  <tbody>\n    <tr>\n      <th>0</th>\n      <td>1</td>\n      <td>39</td>\n      <td>100</td>\n      <td>7</td>\n      <td>4</td>\n      <td>True</td>\n    </tr>\n    <tr>\n      <th>1</th>\n      <td>2</td>\n      <td>145</td>\n      <td>100</td>\n      <td>7</td>\n      <td>1</td>\n      <td>True</td>\n    </tr>\n    <tr>\n      <th>2</th>\n      <td>3</td>\n      <td>121</td>\n      <td>100</td>\n      <td>1</td>\n      <td>0</td>\n      <td>True</td>\n    </tr>\n    <tr>\n      <th>3</th>\n      <td>4</td>\n      <td>99</td>\n      <td>100</td>\n      <td>0</td>\n      <td>0</td>\n      <td>True</td>\n    </tr>\n    <tr>\n      <th>4</th>\n      <td>5</td>\n      <td>111</td>\n      <td>100</td>\n      <td>1</td>\n      <td>2</td>\n      <td>True</td>\n    </tr>\n  </tbody>\n</table>\n</div>"
     },
     "metadata": {},
     "execution_count": 101
    }
   ],
   "source": [
    "df.head()"
   ]
  },
  {
   "cell_type": "code",
   "execution_count": 102,
   "metadata": {},
   "outputs": [],
   "source": [
    "data_df.to_csv(r'/Users/jonathanrocha/Desktop/ClassWork/FinalGroup/data_lol/data.csv',index = False, header= True)"
   ]
  },
  {
   "cell_type": "code",
   "execution_count": null,
   "metadata": {},
   "outputs": [],
   "source": []
  }
 ],
 "metadata": {
  "kernelspec": {
   "display_name": "Python 3",
   "language": "python",
   "name": "python3"
  },
  "language_info": {
   "codemirror_mode": {
    "name": "ipython",
    "version": 3
   },
   "file_extension": ".py",
   "mimetype": "text/x-python",
   "name": "python",
   "nbconvert_exporter": "python",
   "pygments_lexer": "ipython3",
   "version": "3.8.3"
  }
 },
 "nbformat": 4,
 "nbformat_minor": 4
}