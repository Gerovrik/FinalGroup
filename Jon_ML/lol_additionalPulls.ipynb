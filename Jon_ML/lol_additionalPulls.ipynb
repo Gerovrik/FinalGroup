{
 "cells": [
  {
   "cell_type": "code",
   "execution_count": 27,
   "metadata": {
    "tags": []
   },
   "outputs": [],
   "source": [
    "import json\n",
    "import time\n",
    "import requests\n",
    "\n",
    "import pandas as pd\n",
    "key=\"RGAPI-2599494c-935a-4f59-b1d6-0954848414e8\"\n",
    "api_key = f'?api_key={key}'\n",
    "\n",
    "\n",
    "# url = \"https://na1.api.riotgames.com/lol/match/v4/matches/3845049175?api_key=RGAPI-998df494-249a-4805-b186-abd577498a8c\"\n",
    "\n",
    "Match_ID_base_url = \"https://canisback.com/matchId/matchlist_na1.json\"\n",
    "Match_ID_url = Match_ID_base_url\n",
    "Match_ID_response = requests.get(Match_ID_url)\n",
    "Match_ID_Stat_results = Match_ID_response.json()\n"
   ]
  },
  {
   "cell_type": "code",
   "execution_count": 28,
   "metadata": {},
   "outputs": [
    {
     "output_type": "execute_result",
     "data": {
      "text/plain": [
       "       Match_ID\n",
       "499  3848984856\n",
       "498  3848984848\n",
       "497  3848984845\n",
       "496  3848984842\n",
       "495  3848984835\n",
       "..          ...\n",
       "4    3848969517\n",
       "3    3848969509\n",
       "2    3848969463\n",
       "1    3848969422\n",
       "0    3848969374\n",
       "\n",
       "[500 rows x 1 columns]"
      ],
      "text/html": "<div>\n<style scoped>\n    .dataframe tbody tr th:only-of-type {\n        vertical-align: middle;\n    }\n\n    .dataframe tbody tr th {\n        vertical-align: top;\n    }\n\n    .dataframe thead th {\n        text-align: right;\n    }\n</style>\n<table border=\"1\" class=\"dataframe\">\n  <thead>\n    <tr style=\"text-align: right;\">\n      <th></th>\n      <th>Match_ID</th>\n    </tr>\n  </thead>\n  <tbody>\n    <tr>\n      <th>499</th>\n      <td>3848984856</td>\n    </tr>\n    <tr>\n      <th>498</th>\n      <td>3848984848</td>\n    </tr>\n    <tr>\n      <th>497</th>\n      <td>3848984845</td>\n    </tr>\n    <tr>\n      <th>496</th>\n      <td>3848984842</td>\n    </tr>\n    <tr>\n      <th>495</th>\n      <td>3848984835</td>\n    </tr>\n    <tr>\n      <th>...</th>\n      <td>...</td>\n    </tr>\n    <tr>\n      <th>4</th>\n      <td>3848969517</td>\n    </tr>\n    <tr>\n      <th>3</th>\n      <td>3848969509</td>\n    </tr>\n    <tr>\n      <th>2</th>\n      <td>3848969463</td>\n    </tr>\n    <tr>\n      <th>1</th>\n      <td>3848969422</td>\n    </tr>\n    <tr>\n      <th>0</th>\n      <td>3848969374</td>\n    </tr>\n  </tbody>\n</table>\n<p>500 rows × 1 columns</p>\n</div>"
     },
     "metadata": {},
     "execution_count": 28
    }
   ],
   "source": [
    "Match_ID_Stat_results_df = pd.DataFrame(Match_ID_Stat_results)\n",
    "# df_test =Match_ID_Stat_results_df.head(200)\n",
    "df_test =Match_ID_Stat_results_df.head(500)\n",
    "df_test = df_test.astype(str)\n",
    "df_test.columns = ['Match_ID']\n",
    "df_test = df_test[::-1]\n",
    "df_test"
   ]
  },
  {
   "cell_type": "code",
   "execution_count": null,
   "metadata": {},
   "outputs": [],
   "source": []
  },
  {
   "cell_type": "code",
   "execution_count": 29,
   "metadata": {},
   "outputs": [
    {
     "output_type": "error",
     "ename": "KeyError",
     "evalue": "'teams'",
     "traceback": [
      "\u001b[0;31m---------------------------------------------------------------------------\u001b[0m",
      "\u001b[0;31mKeyError\u001b[0m                                  Traceback (most recent call last)",
      "\u001b[0;32m<ipython-input-29-4683ac86c35e>\u001b[0m in \u001b[0;36m<module>\u001b[0;34m\u001b[0m\n\u001b[1;32m     10\u001b[0m     \u001b[0mtime\u001b[0m\u001b[0;34m.\u001b[0m\u001b[0msleep\u001b[0m\u001b[0;34m(\u001b[0m\u001b[0;36m1\u001b[0m\u001b[0;34m)\u001b[0m\u001b[0;34m\u001b[0m\u001b[0;34m\u001b[0m\u001b[0m\n\u001b[1;32m     11\u001b[0m \u001b[0;34m\u001b[0m\u001b[0m\n\u001b[0;32m---> 12\u001b[0;31m     \u001b[0;32mfor\u001b[0m \u001b[0mteam\u001b[0m \u001b[0;32min\u001b[0m \u001b[0mresults\u001b[0m\u001b[0;34m[\u001b[0m\u001b[0;34m'teams'\u001b[0m\u001b[0;34m]\u001b[0m\u001b[0;34m:\u001b[0m\u001b[0;34m\u001b[0m\u001b[0;34m\u001b[0m\u001b[0m\n\u001b[0m\u001b[1;32m     13\u001b[0m         \u001b[0md\u001b[0m\u001b[0;34m=\u001b[0m\u001b[0mteam\u001b[0m\u001b[0;34m[\u001b[0m\u001b[0;34m'firstBlood'\u001b[0m\u001b[0;34m]\u001b[0m\u001b[0;34m\u001b[0m\u001b[0;34m\u001b[0m\u001b[0m\n\u001b[1;32m     14\u001b[0m         \u001b[0me\u001b[0m\u001b[0;34m=\u001b[0m\u001b[0mteam\u001b[0m\u001b[0;34m[\u001b[0m\u001b[0;34m'firstTower'\u001b[0m\u001b[0;34m]\u001b[0m\u001b[0;34m\u001b[0m\u001b[0;34m\u001b[0m\u001b[0m\n",
      "\u001b[0;31mKeyError\u001b[0m: 'teams'"
     ]
    }
   ],
   "source": [
    "count = 0\n",
    "team_id=[]\n",
    "for count in range(300, 500):\n",
    "    base_url = \"https://na1.api.riotgames.com/lol/match/v4/matches/\"\n",
    "    matchid = df_test['Match_ID'][count]\n",
    "    url = base_url + matchid + api_key\n",
    "    response = requests.get(url)\n",
    "    results = response.json()\n",
    "    # print(results)\n",
    "    time.sleep(1)\n",
    "\n",
    "    for team in results['teams']:\n",
    "        d=team['firstBlood']\n",
    "        e=team['firstTower']\n",
    "        f=team['firstInhibitor']\n",
    "        g=team['firstBaron']\n",
    "        h=team['firstDragon']\n",
    "        i=team['firstRiftHerald']\n",
    "    for team in results['participants']:\n",
    "            x=team['championId']\n",
    "            y=team['teamId']\n",
    "            z=team['participantId']\n",
    "            a=team['stats']['kills']\n",
    "            b=team['stats']['deaths']\n",
    "            c=team['stats']['win']\n",
    "  \n",
    "\n",
    "        \n",
    "    team_id.append({\n",
    "            \"participantId\":z,\n",
    "            \"championId\":x,\n",
    "            \"teamId\":y,\n",
    "            \"firstBlood\":d,\n",
    "            \"firstTower\":e,\n",
    "            \"firstInhibitor\":f,\n",
    "            \"firstBaron\":g,\n",
    "            \"firstDragon\":h,\n",
    "            \"firstRiftHerald\":i,\n",
    "            \"kills\":a,\n",
    "            \"deaths\":b,\n",
    "            \"win\":c\n",
    "\n",
    "        \n",
    "        })\n",
    "    count += 1\n",
    "    df=pd.DataFrame(team_id)\n",
    "    # df1=pd.DataFrame(team_id)\n",
    "\n",
    "    if count == 100:\n",
    "      break\n",
    "print(count)"
   ]
  },
  {
   "cell_type": "code",
   "execution_count": 32,
   "metadata": {},
   "outputs": [
    {
     "output_type": "execute_result",
     "data": {
      "text/plain": [
       "   participantId championId teamId firstBlood firstTower firstInhibitor  \\\n",
       "0             10        117    200      False      False          False   \n",
       "1             10          8    200       True       True           True   \n",
       "2             10         78    200      False       True          False   \n",
       "3             10        234    200       True       True           True   \n",
       "4             10        112    200      False       True           True   \n",
       "5             10        432    200      False      False           True   \n",
       "6             10        202    200      False       True          False   \n",
       "7             10        112    200      False      False           True   \n",
       "8             10        131    200      False      False          False   \n",
       "9             10         48    200       True       True          False   \n",
       "10            10         22    200       True      False          False   \n",
       "11            10         35    200      False      False          False   \n",
       "12            10         86    200      False      False          False   \n",
       "13            10         48    200      False       True           True   \n",
       "14            10         31    200      False      False          False   \n",
       "15            10         12    200      False       True          False   \n",
       "16            10        106    200       True       True           True   \n",
       "17            10        122    200       True       True          False   \n",
       "18            10        141    200      False       True           True   \n",
       "19            10        222    200      False      False          False   \n",
       "20            10         33    200      False      False          False   \n",
       "21            10         89    200       True      False          False   \n",
       "22            10         57    200      False      False          False   \n",
       "23            10        350    200      False      False          False   \n",
       "24            10         54    200      False       True           True   \n",
       "25            10        421    200      False      False          False   \n",
       "26            10         22    200       True      False          False   \n",
       "27            10         90    200       True       True          False   \n",
       "28            10        147    200      False       True          False   \n",
       "29            10         25    200      False      False          False   \n",
       "30            10         89    200       True       True          False   \n",
       "31            10        157    200       True      False          False   \n",
       "32            10        133    200       True      False          False   \n",
       "33            10         86    200      False       True           True   \n",
       "34            10         36    200       True      False           True   \n",
       "35            10        141    200       True       True          False   \n",
       "36            10         22    200       True      False          False   \n",
       "37            10         81    200      False      False          False   \n",
       "\n",
       "   firstBaron firstDragon firstRiftHerald kills deaths    win  \n",
       "0       False       False           False     0      0  False  \n",
       "1       False        True            True     9      4   True  \n",
       "2       False        True            True     3      8  False  \n",
       "3        True       False           False     1      8   True  \n",
       "4        True        True            True     7      2   True  \n",
       "5        True        True           False     1      9   True  \n",
       "6       False       False            True     8      4  False  \n",
       "7        True       False           False     4      6   True  \n",
       "8       False       False           False     4      5  False  \n",
       "9       False        True           False     5     10  False  \n",
       "10      False        True           False     1      3  False  \n",
       "11      False       False           False     5      7  False  \n",
       "12      False        True           False     2      6  False  \n",
       "13       True        True            True     9      9  False  \n",
       "14       True        True           False     4     11  False  \n",
       "15      False       False            True     0      5  False  \n",
       "16       True       False            True    10     10   True  \n",
       "17      False        True           False     6      9  False  \n",
       "18      False       False            True    11      9   True  \n",
       "19      False       False            True     8      8  False  \n",
       "20      False       False           False     0      2  False  \n",
       "21      False       False           False     1      4  False  \n",
       "22      False       False           False     3      7  False  \n",
       "23      False       False            True     1      6  False  \n",
       "24       True       False            True     5      6   True  \n",
       "25      False       False           False     2      1  False  \n",
       "26      False        True           False     5      7  False  \n",
       "27      False        True           False     1      2   True  \n",
       "28      False        True            True     0      4  False  \n",
       "29       True        True           False     4      7  False  \n",
       "30      False        True           False     0      2   True  \n",
       "31      False       False           False     5     17  False  \n",
       "32      False       False           False     0      0   True  \n",
       "33       True        True           False    13      2   True  \n",
       "34       True        True           False     8      7   True  \n",
       "35      False        True            True     7      8  False  \n",
       "36      False       False            True     0     12  False  \n",
       "37      False       False           False     5      5  False  "
      ],
      "text/html": "<div>\n<style scoped>\n    .dataframe tbody tr th:only-of-type {\n        vertical-align: middle;\n    }\n\n    .dataframe tbody tr th {\n        vertical-align: top;\n    }\n\n    .dataframe thead th {\n        text-align: right;\n    }\n</style>\n<table border=\"1\" class=\"dataframe\">\n  <thead>\n    <tr style=\"text-align: right;\">\n      <th></th>\n      <th>participantId</th>\n      <th>championId</th>\n      <th>teamId</th>\n      <th>firstBlood</th>\n      <th>firstTower</th>\n      <th>firstInhibitor</th>\n      <th>firstBaron</th>\n      <th>firstDragon</th>\n      <th>firstRiftHerald</th>\n      <th>kills</th>\n      <th>deaths</th>\n      <th>win</th>\n    </tr>\n  </thead>\n  <tbody>\n    <tr>\n      <th>0</th>\n      <td>10</td>\n      <td>117</td>\n      <td>200</td>\n      <td>False</td>\n      <td>False</td>\n      <td>False</td>\n      <td>False</td>\n      <td>False</td>\n      <td>False</td>\n      <td>0</td>\n      <td>0</td>\n      <td>False</td>\n    </tr>\n    <tr>\n      <th>1</th>\n      <td>10</td>\n      <td>8</td>\n      <td>200</td>\n      <td>True</td>\n      <td>True</td>\n      <td>True</td>\n      <td>False</td>\n      <td>True</td>\n      <td>True</td>\n      <td>9</td>\n      <td>4</td>\n      <td>True</td>\n    </tr>\n    <tr>\n      <th>2</th>\n      <td>10</td>\n      <td>78</td>\n      <td>200</td>\n      <td>False</td>\n      <td>True</td>\n      <td>False</td>\n      <td>False</td>\n      <td>True</td>\n      <td>True</td>\n      <td>3</td>\n      <td>8</td>\n      <td>False</td>\n    </tr>\n    <tr>\n      <th>3</th>\n      <td>10</td>\n      <td>234</td>\n      <td>200</td>\n      <td>True</td>\n      <td>True</td>\n      <td>True</td>\n      <td>True</td>\n      <td>False</td>\n      <td>False</td>\n      <td>1</td>\n      <td>8</td>\n      <td>True</td>\n    </tr>\n    <tr>\n      <th>4</th>\n      <td>10</td>\n      <td>112</td>\n      <td>200</td>\n      <td>False</td>\n      <td>True</td>\n      <td>True</td>\n      <td>True</td>\n      <td>True</td>\n      <td>True</td>\n      <td>7</td>\n      <td>2</td>\n      <td>True</td>\n    </tr>\n    <tr>\n      <th>5</th>\n      <td>10</td>\n      <td>432</td>\n      <td>200</td>\n      <td>False</td>\n      <td>False</td>\n      <td>True</td>\n      <td>True</td>\n      <td>True</td>\n      <td>False</td>\n      <td>1</td>\n      <td>9</td>\n      <td>True</td>\n    </tr>\n    <tr>\n      <th>6</th>\n      <td>10</td>\n      <td>202</td>\n      <td>200</td>\n      <td>False</td>\n      <td>True</td>\n      <td>False</td>\n      <td>False</td>\n      <td>False</td>\n      <td>True</td>\n      <td>8</td>\n      <td>4</td>\n      <td>False</td>\n    </tr>\n    <tr>\n      <th>7</th>\n      <td>10</td>\n      <td>112</td>\n      <td>200</td>\n      <td>False</td>\n      <td>False</td>\n      <td>True</td>\n      <td>True</td>\n      <td>False</td>\n      <td>False</td>\n      <td>4</td>\n      <td>6</td>\n      <td>True</td>\n    </tr>\n    <tr>\n      <th>8</th>\n      <td>10</td>\n      <td>131</td>\n      <td>200</td>\n      <td>False</td>\n      <td>False</td>\n      <td>False</td>\n      <td>False</td>\n      <td>False</td>\n      <td>False</td>\n      <td>4</td>\n      <td>5</td>\n      <td>False</td>\n    </tr>\n    <tr>\n      <th>9</th>\n      <td>10</td>\n      <td>48</td>\n      <td>200</td>\n      <td>True</td>\n      <td>True</td>\n      <td>False</td>\n      <td>False</td>\n      <td>True</td>\n      <td>False</td>\n      <td>5</td>\n      <td>10</td>\n      <td>False</td>\n    </tr>\n    <tr>\n      <th>10</th>\n      <td>10</td>\n      <td>22</td>\n      <td>200</td>\n      <td>True</td>\n      <td>False</td>\n      <td>False</td>\n      <td>False</td>\n      <td>True</td>\n      <td>False</td>\n      <td>1</td>\n      <td>3</td>\n      <td>False</td>\n    </tr>\n    <tr>\n      <th>11</th>\n      <td>10</td>\n      <td>35</td>\n      <td>200</td>\n      <td>False</td>\n      <td>False</td>\n      <td>False</td>\n      <td>False</td>\n      <td>False</td>\n      <td>False</td>\n      <td>5</td>\n      <td>7</td>\n      <td>False</td>\n    </tr>\n    <tr>\n      <th>12</th>\n      <td>10</td>\n      <td>86</td>\n      <td>200</td>\n      <td>False</td>\n      <td>False</td>\n      <td>False</td>\n      <td>False</td>\n      <td>True</td>\n      <td>False</td>\n      <td>2</td>\n      <td>6</td>\n      <td>False</td>\n    </tr>\n    <tr>\n      <th>13</th>\n      <td>10</td>\n      <td>48</td>\n      <td>200</td>\n      <td>False</td>\n      <td>True</td>\n      <td>True</td>\n      <td>True</td>\n      <td>True</td>\n      <td>True</td>\n      <td>9</td>\n      <td>9</td>\n      <td>False</td>\n    </tr>\n    <tr>\n      <th>14</th>\n      <td>10</td>\n      <td>31</td>\n      <td>200</td>\n      <td>False</td>\n      <td>False</td>\n      <td>False</td>\n      <td>True</td>\n      <td>True</td>\n      <td>False</td>\n      <td>4</td>\n      <td>11</td>\n      <td>False</td>\n    </tr>\n    <tr>\n      <th>15</th>\n      <td>10</td>\n      <td>12</td>\n      <td>200</td>\n      <td>False</td>\n      <td>True</td>\n      <td>False</td>\n      <td>False</td>\n      <td>False</td>\n      <td>True</td>\n      <td>0</td>\n      <td>5</td>\n      <td>False</td>\n    </tr>\n    <tr>\n      <th>16</th>\n      <td>10</td>\n      <td>106</td>\n      <td>200</td>\n      <td>True</td>\n      <td>True</td>\n      <td>True</td>\n      <td>True</td>\n      <td>False</td>\n      <td>True</td>\n      <td>10</td>\n      <td>10</td>\n      <td>True</td>\n    </tr>\n    <tr>\n      <th>17</th>\n      <td>10</td>\n      <td>122</td>\n      <td>200</td>\n      <td>True</td>\n      <td>True</td>\n      <td>False</td>\n      <td>False</td>\n      <td>True</td>\n      <td>False</td>\n      <td>6</td>\n      <td>9</td>\n      <td>False</td>\n    </tr>\n    <tr>\n      <th>18</th>\n      <td>10</td>\n      <td>141</td>\n      <td>200</td>\n      <td>False</td>\n      <td>True</td>\n      <td>True</td>\n      <td>False</td>\n      <td>False</td>\n      <td>True</td>\n      <td>11</td>\n      <td>9</td>\n      <td>True</td>\n    </tr>\n    <tr>\n      <th>19</th>\n      <td>10</td>\n      <td>222</td>\n      <td>200</td>\n      <td>False</td>\n      <td>False</td>\n      <td>False</td>\n      <td>False</td>\n      <td>False</td>\n      <td>True</td>\n      <td>8</td>\n      <td>8</td>\n      <td>False</td>\n    </tr>\n    <tr>\n      <th>20</th>\n      <td>10</td>\n      <td>33</td>\n      <td>200</td>\n      <td>False</td>\n      <td>False</td>\n      <td>False</td>\n      <td>False</td>\n      <td>False</td>\n      <td>False</td>\n      <td>0</td>\n      <td>2</td>\n      <td>False</td>\n    </tr>\n    <tr>\n      <th>21</th>\n      <td>10</td>\n      <td>89</td>\n      <td>200</td>\n      <td>True</td>\n      <td>False</td>\n      <td>False</td>\n      <td>False</td>\n      <td>False</td>\n      <td>False</td>\n      <td>1</td>\n      <td>4</td>\n      <td>False</td>\n    </tr>\n    <tr>\n      <th>22</th>\n      <td>10</td>\n      <td>57</td>\n      <td>200</td>\n      <td>False</td>\n      <td>False</td>\n      <td>False</td>\n      <td>False</td>\n      <td>False</td>\n      <td>False</td>\n      <td>3</td>\n      <td>7</td>\n      <td>False</td>\n    </tr>\n    <tr>\n      <th>23</th>\n      <td>10</td>\n      <td>350</td>\n      <td>200</td>\n      <td>False</td>\n      <td>False</td>\n      <td>False</td>\n      <td>False</td>\n      <td>False</td>\n      <td>True</td>\n      <td>1</td>\n      <td>6</td>\n      <td>False</td>\n    </tr>\n    <tr>\n      <th>24</th>\n      <td>10</td>\n      <td>54</td>\n      <td>200</td>\n      <td>False</td>\n      <td>True</td>\n      <td>True</td>\n      <td>True</td>\n      <td>False</td>\n      <td>True</td>\n      <td>5</td>\n      <td>6</td>\n      <td>True</td>\n    </tr>\n    <tr>\n      <th>25</th>\n      <td>10</td>\n      <td>421</td>\n      <td>200</td>\n      <td>False</td>\n      <td>False</td>\n      <td>False</td>\n      <td>False</td>\n      <td>False</td>\n      <td>False</td>\n      <td>2</td>\n      <td>1</td>\n      <td>False</td>\n    </tr>\n    <tr>\n      <th>26</th>\n      <td>10</td>\n      <td>22</td>\n      <td>200</td>\n      <td>True</td>\n      <td>False</td>\n      <td>False</td>\n      <td>False</td>\n      <td>True</td>\n      <td>False</td>\n      <td>5</td>\n      <td>7</td>\n      <td>False</td>\n    </tr>\n    <tr>\n      <th>27</th>\n      <td>10</td>\n      <td>90</td>\n      <td>200</td>\n      <td>True</td>\n      <td>True</td>\n      <td>False</td>\n      <td>False</td>\n      <td>True</td>\n      <td>False</td>\n      <td>1</td>\n      <td>2</td>\n      <td>True</td>\n    </tr>\n    <tr>\n      <th>28</th>\n      <td>10</td>\n      <td>147</td>\n      <td>200</td>\n      <td>False</td>\n      <td>True</td>\n      <td>False</td>\n      <td>False</td>\n      <td>True</td>\n      <td>True</td>\n      <td>0</td>\n      <td>4</td>\n      <td>False</td>\n    </tr>\n    <tr>\n      <th>29</th>\n      <td>10</td>\n      <td>25</td>\n      <td>200</td>\n      <td>False</td>\n      <td>False</td>\n      <td>False</td>\n      <td>True</td>\n      <td>True</td>\n      <td>False</td>\n      <td>4</td>\n      <td>7</td>\n      <td>False</td>\n    </tr>\n    <tr>\n      <th>30</th>\n      <td>10</td>\n      <td>89</td>\n      <td>200</td>\n      <td>True</td>\n      <td>True</td>\n      <td>False</td>\n      <td>False</td>\n      <td>True</td>\n      <td>False</td>\n      <td>0</td>\n      <td>2</td>\n      <td>True</td>\n    </tr>\n    <tr>\n      <th>31</th>\n      <td>10</td>\n      <td>157</td>\n      <td>200</td>\n      <td>True</td>\n      <td>False</td>\n      <td>False</td>\n      <td>False</td>\n      <td>False</td>\n      <td>False</td>\n      <td>5</td>\n      <td>17</td>\n      <td>False</td>\n    </tr>\n    <tr>\n      <th>32</th>\n      <td>10</td>\n      <td>133</td>\n      <td>200</td>\n      <td>True</td>\n      <td>False</td>\n      <td>False</td>\n      <td>False</td>\n      <td>False</td>\n      <td>False</td>\n      <td>0</td>\n      <td>0</td>\n      <td>True</td>\n    </tr>\n    <tr>\n      <th>33</th>\n      <td>10</td>\n      <td>86</td>\n      <td>200</td>\n      <td>False</td>\n      <td>True</td>\n      <td>True</td>\n      <td>True</td>\n      <td>True</td>\n      <td>False</td>\n      <td>13</td>\n      <td>2</td>\n      <td>True</td>\n    </tr>\n    <tr>\n      <th>34</th>\n      <td>10</td>\n      <td>36</td>\n      <td>200</td>\n      <td>True</td>\n      <td>False</td>\n      <td>True</td>\n      <td>True</td>\n      <td>True</td>\n      <td>False</td>\n      <td>8</td>\n      <td>7</td>\n      <td>True</td>\n    </tr>\n    <tr>\n      <th>35</th>\n      <td>10</td>\n      <td>141</td>\n      <td>200</td>\n      <td>True</td>\n      <td>True</td>\n      <td>False</td>\n      <td>False</td>\n      <td>True</td>\n      <td>True</td>\n      <td>7</td>\n      <td>8</td>\n      <td>False</td>\n    </tr>\n    <tr>\n      <th>36</th>\n      <td>10</td>\n      <td>22</td>\n      <td>200</td>\n      <td>True</td>\n      <td>False</td>\n      <td>False</td>\n      <td>False</td>\n      <td>False</td>\n      <td>True</td>\n      <td>0</td>\n      <td>12</td>\n      <td>False</td>\n    </tr>\n    <tr>\n      <th>37</th>\n      <td>10</td>\n      <td>81</td>\n      <td>200</td>\n      <td>False</td>\n      <td>False</td>\n      <td>False</td>\n      <td>False</td>\n      <td>False</td>\n      <td>False</td>\n      <td>5</td>\n      <td>5</td>\n      <td>False</td>\n    </tr>\n  </tbody>\n</table>\n</div>"
     },
     "metadata": {},
     "execution_count": 32
    }
   ],
   "source": [
    "df.astype(str)\n",
    "# df.to_csv('/Users/jonathanrocha/Desktop/datapulllast500.csv',index = False, header= True)\n",
    "# df1.to_csv('/Users/jonathanrocha/Desktop/Updated_data.csv', header= True)\n",
    "    # print(team_id)\n",
    "    # print(team)"
   ]
  },
  {
   "cell_type": "code",
   "execution_count": 33,
   "metadata": {},
   "outputs": [
    {
     "output_type": "execute_result",
     "data": {
      "text/plain": [
       "38"
      ]
     },
     "metadata": {},
     "execution_count": 33
    }
   ],
   "source": [
    "len(df)"
   ]
  },
  {
   "cell_type": "code",
   "execution_count": null,
   "metadata": {},
   "outputs": [],
   "source": [
    "#for entries in Stat_results:\n",
    "    #print(entries)\n",
    "# json.dumps(Stat_results,indent=4)\n",
    "#data_df.to_csv(r'/Users/jonathanrocha/Desktop/ClassWork/FinalGroup/data_lol/data.csv',index = False, header= True)"
   ]
  }
 ],
 "metadata": {
  "kernelspec": {
   "name": "python3",
   "display_name": "Python 3.8.5 64-bit ('main': conda)",
   "metadata": {
    "interpreter": {
     "hash": "074fa6d9e4954ec52dc788adaa2ca2c28c684881cde522e311f40863a505be56"
    }
   }
  },
  "language_info": {
   "codemirror_mode": {
    "name": "ipython",
    "version": 3
   },
   "file_extension": ".py",
   "mimetype": "text/x-python",
   "name": "python",
   "nbconvert_exporter": "python",
   "pygments_lexer": "ipython3",
   "version": "3.8.5"
  }
 },
 "nbformat": 4,
 "nbformat_minor": 4
}